{
 "cells": [
  {
   "cell_type": "markdown",
   "id": "b8135284-1238-480e-89d8-5790b142ea66",
   "metadata": {},
   "source": [
    "# Lecture 6 - Student Notebook"
   ]
  },
  {
   "cell_type": "markdown",
   "id": "494fe36e-c815-4bae-88b4-6c784e829d1d",
   "metadata": {
    "tags": []
   },
   "source": [
    "ASSISTments is a free tool for assigning and assessing math problems and homework. Teachers can select and assign problem sets. Once they get an assignment, students can complete it at their own pace and with the help of hints, multiple chances, and immediate feedback. Teachers get instant results broken down by individual student or for the whole class. The dataset involves 4,217 middle-school students practicing an electronic tutor that teaches and evaluates students in grade-school math, with a total of 525,534 trials. The student data are in a comma-delimited text file with one row per trial. The columns should correspond to a trial's user id, the order id (timestamp), the skill name, and and whether the student produced a correct response in the trial. More information on the platform can be found [here](https://www.commonsense.org/education/website/assistments). \n",
    "\n",
    "The ASSISTments data sets are often used for benchmarking knowledge tracing models. We will play with a simplified data set that contains the following columns:\n",
    "\n",
    "| Name                   | Description                         |\n",
    "| ---------------------- | ------------------------------------------------------------ |\n",
    "| user_id | The ID of the student who is solving the problem.  | |\n",
    "| order_id | The temporal ID (timestamp) associated with the student's answer to the problem.  | |\n",
    "| skill_name | The name of the skill associated with the problem. | |\n",
    "| correct | The student's performance on the problem: 1 if the problem's answer is correct at the first attempt, 0 otherwise. "
   ]
  },
  {
   "cell_type": "markdown",
   "id": "f8f92b49-a6b7-481e-abe3-8bd1d929965f",
   "metadata": {},
   "source": [
    "We first load the data set."
   ]
  },
  {
   "cell_type": "code",
   "execution_count": 1,
   "id": "6cb3cc5d-dfdc-4214-b01c-0f9b8dfa77a7",
   "metadata": {},
   "outputs": [],
   "source": [
    "# Principal package imports\n",
    "import matplotlib.pyplot as plt\n",
    "import seaborn as sns\n",
    "import pandas as pd\n",
    "import numpy as np\n",
    "import scipy as sc\n",
    "\n",
    "# Scikit-learn package imports\n",
    "from sklearn import feature_extraction, model_selection\n",
    "from sklearn.metrics import mean_squared_error, roc_auc_score\n",
    "\n",
    "# PyBKT package imports\n",
    "from pyBKT.models import Model\n",
    "\n",
    "DATA_DIR = \"./../../data/\""
   ]
  },
  {
   "cell_type": "code",
   "execution_count": 2,
   "id": "f0e03b6b-462f-4770-af1c-c0b4fd00f565",
   "metadata": {},
   "outputs": [
    {
     "data": {
      "text/html": [
       "<div>\n",
       "<style scoped>\n",
       "    .dataframe tbody tr th:only-of-type {\n",
       "        vertical-align: middle;\n",
       "    }\n",
       "\n",
       "    .dataframe tbody tr th {\n",
       "        vertical-align: top;\n",
       "    }\n",
       "\n",
       "    .dataframe thead th {\n",
       "        text-align: right;\n",
       "    }\n",
       "</style>\n",
       "<table border=\"1\" class=\"dataframe\">\n",
       "  <thead>\n",
       "    <tr style=\"text-align: right;\">\n",
       "      <th></th>\n",
       "      <th>user_id</th>\n",
       "      <th>order_id</th>\n",
       "      <th>skill_name</th>\n",
       "      <th>correct</th>\n",
       "    </tr>\n",
       "  </thead>\n",
       "  <tbody>\n",
       "    <tr>\n",
       "      <th>0</th>\n",
       "      <td>64525</td>\n",
       "      <td>33022537</td>\n",
       "      <td>Box and Whisker</td>\n",
       "      <td>1</td>\n",
       "    </tr>\n",
       "    <tr>\n",
       "      <th>1</th>\n",
       "      <td>64525</td>\n",
       "      <td>33022709</td>\n",
       "      <td>Box and Whisker</td>\n",
       "      <td>1</td>\n",
       "    </tr>\n",
       "    <tr>\n",
       "      <th>2</th>\n",
       "      <td>70363</td>\n",
       "      <td>35450204</td>\n",
       "      <td>Box and Whisker</td>\n",
       "      <td>0</td>\n",
       "    </tr>\n",
       "    <tr>\n",
       "      <th>3</th>\n",
       "      <td>70363</td>\n",
       "      <td>35450295</td>\n",
       "      <td>Box and Whisker</td>\n",
       "      <td>1</td>\n",
       "    </tr>\n",
       "    <tr>\n",
       "      <th>4</th>\n",
       "      <td>70363</td>\n",
       "      <td>35450311</td>\n",
       "      <td>Box and Whisker</td>\n",
       "      <td>0</td>\n",
       "    </tr>\n",
       "  </tbody>\n",
       "</table>\n",
       "</div>"
      ],
      "text/plain": [
       "   user_id  order_id       skill_name  correct\n",
       "0    64525  33022537  Box and Whisker        1\n",
       "1    64525  33022709  Box and Whisker        1\n",
       "2    70363  35450204  Box and Whisker        0\n",
       "3    70363  35450295  Box and Whisker        1\n",
       "4    70363  35450311  Box and Whisker        0"
      ]
     },
     "execution_count": 2,
     "metadata": {},
     "output_type": "execute_result"
    }
   ],
   "source": [
    "assistments = pd.read_csv(DATA_DIR + 'assistments.csv', low_memory=False).dropna()\n",
    "assistments.head()"
   ]
  },
  {
   "cell_type": "markdown",
   "id": "462477a1-47f4-4610-b41e-569cf320903f",
   "metadata": {},
   "source": [
    "Next, we print the number of unique students and skills in this data set."
   ]
  },
  {
   "cell_type": "code",
   "execution_count": 3,
   "id": "6d8bfc64-ddd6-48b7-9a05-5a5453e5f17b",
   "metadata": {},
   "outputs": [
    {
     "name": "stdout",
     "output_type": "stream",
     "text": [
      "Number of unique students in the dataset: 4151\n",
      "Number of unique skills in the dataset: 110\n"
     ]
    }
   ],
   "source": [
    "print(\"Number of unique students in the dataset:\", len(set(assistments['user_id'])))\n",
    "print(\"Number of unique skills in the dataset:\", len(set(assistments['skill_name'])))"
   ]
  },
  {
   "cell_type": "markdown",
   "id": "6d0ae960-79c4-45f0-bbd4-3cf51ca7344b",
   "metadata": {},
   "source": [
    "To keep things simpler for demonstration purposes, we will focus on the following 6 skills in this lecture:  \n",
    "`'Circle Graph', 'Venn Diagram', 'Mode', 'Division Fractions', 'Finding Percents', 'Area Rectangle'`"
   ]
  },
  {
   "cell_type": "code",
   "execution_count": 4,
   "id": "bb4c7e15-5630-407f-933c-7debb291efc3",
   "metadata": {},
   "outputs": [
    {
     "name": "stdout",
     "output_type": "stream",
     "text": [
      "Skill set: {'Circle Graph', 'Venn Diagram', 'Finding Percents', 'Area Rectangle', 'Mode', 'Division Fractions'}\n",
      "Number of unique students in the subset: 1527\n",
      "Number of unique skills in the subset: 6\n"
     ]
    }
   ],
   "source": [
    "skills_subset = ['Circle Graph', 'Venn Diagram', 'Mode', 'Division Fractions', 'Finding Percents', 'Area Rectangle']\n",
    "data = assistments[assistments['skill_name'].isin(skills_subset)]\n",
    "\n",
    "print(\"Skill set:\", set(data['skill_name']))\n",
    "print(\"Number of unique students in the subset:\", len(set(data['user_id'])))\n",
    "print(\"Number of unique skills in the subset:\", len(set(data['skill_name'])))"
   ]
  },
  {
   "cell_type": "markdown",
   "id": "a34af67d-bc3b-43d0-b6ef-6e5dec325f84",
   "metadata": {
    "tags": []
   },
   "source": [
    "## BKT Models - Training & Prediction"
   ]
  },
  {
   "cell_type": "markdown",
   "id": "9c6d6461-0feb-4d0b-a64e-14726751a322",
   "metadata": {},
   "source": [
    "We will use a train-test setting (20% of students in the test set). The `create_iterator` function creates an iterator object able to split student's interactions included in data in 10 folds such that the same student does not appear in two different folds. To do so, we appropriately initialize a scikit-learn's GroupShuffleSplit iterator with 80% training set size and non-overlapping groups, then return the iterator."
   ]
  },
  {
   "cell_type": "code",
   "execution_count": 5,
   "id": "04366897-417c-4764-b3f0-f5990eb62d74",
   "metadata": {},
   "outputs": [],
   "source": [
    "def create_iterator(data):\n",
    "    '''\n",
    "    Create an iterator to split interactions in data into train and test, with the same student not appearing in two diverse folds.\n",
    "    :param data:        Dataframe with student's interactions.\n",
    "    :return:            An iterator.\n",
    "    '''    \n",
    "    # Both passing a matrix with the raw data or just an array of indexes works\n",
    "    X = np.arange(len(data.index)) \n",
    "    # Groups of interactions are identified by the user id (we do not want the same user appearing in two folds)\n",
    "    groups = data['user_id'].values \n",
    "    return model_selection.GroupShuffleSplit(n_splits=1, train_size=.8, test_size=0.2, random_state=0).split(X, groups=groups)"
   ]
  },
  {
   "cell_type": "markdown",
   "id": "aebbb1db-f4d5-46fb-a90c-01a0d45e0d88",
   "metadata": {},
   "source": [
    "Next, we train a BKT model for each skill on the training data set and then predict on the test data set.\n",
    "We obtain `df_preds`, a data frame containing the predictions for each user and skill in the test data set. We output the overall RMSE and AUC scores."
   ]
  },
  {
   "cell_type": "code",
   "execution_count": 6,
   "id": "2a4f2ded-0e4a-46b8-a372-9cbc2e47b8c4",
   "metadata": {},
   "outputs": [
    {
     "name": "stdout",
     "output_type": "stream",
     "text": [
      "-- Circle Graph --\n",
      "CPU times: user 356 ms, sys: 236 µs, total: 356 ms\n",
      "Wall time: 114 ms\n"
     ]
    },
    {
     "name": "stderr",
     "output_type": "stream",
     "text": [
      "/tmp/ipykernel_434/755768163.py:15: FutureWarning: The frame.append method is deprecated and will be removed from pandas in a future version. Use pandas.concat instead.\n",
      "  df_preds = df_preds.append(preds)\n"
     ]
    },
    {
     "name": "stdout",
     "output_type": "stream",
     "text": [
      "-- Venn Diagram --\n",
      "CPU times: user 2.25 s, sys: 13.1 ms, total: 2.26 s\n",
      "Wall time: 1.18 s\n",
      "-- Mode --\n",
      "CPU times: user 152 ms, sys: 0 ns, total: 152 ms\n",
      "Wall time: 88 ms\n"
     ]
    },
    {
     "name": "stderr",
     "output_type": "stream",
     "text": [
      "/tmp/ipykernel_434/755768163.py:15: FutureWarning: The frame.append method is deprecated and will be removed from pandas in a future version. Use pandas.concat instead.\n",
      "  df_preds = df_preds.append(preds)\n",
      "/tmp/ipykernel_434/755768163.py:15: FutureWarning: The frame.append method is deprecated and will be removed from pandas in a future version. Use pandas.concat instead.\n",
      "  df_preds = df_preds.append(preds)\n"
     ]
    },
    {
     "name": "stdout",
     "output_type": "stream",
     "text": [
      "-- Division Fractions --\n",
      "CPU times: user 1.22 s, sys: 2.45 ms, total: 1.22 s\n",
      "Wall time: 592 ms\n",
      "-- Finding Percents --\n"
     ]
    },
    {
     "name": "stderr",
     "output_type": "stream",
     "text": [
      "/tmp/ipykernel_434/755768163.py:15: FutureWarning: The frame.append method is deprecated and will be removed from pandas in a future version. Use pandas.concat instead.\n",
      "  df_preds = df_preds.append(preds)\n"
     ]
    },
    {
     "name": "stdout",
     "output_type": "stream",
     "text": [
      "CPU times: user 544 ms, sys: 0 ns, total: 544 ms\n",
      "Wall time: 283 ms\n",
      "-- Area Rectangle --\n"
     ]
    },
    {
     "name": "stderr",
     "output_type": "stream",
     "text": [
      "/tmp/ipykernel_434/755768163.py:15: FutureWarning: The frame.append method is deprecated and will be removed from pandas in a future version. Use pandas.concat instead.\n",
      "  df_preds = df_preds.append(preds)\n"
     ]
    },
    {
     "name": "stdout",
     "output_type": "stream",
     "text": [
      "CPU times: user 785 ms, sys: 5.46 ms, total: 790 ms\n",
      "Wall time: 391 ms\n"
     ]
    },
    {
     "name": "stderr",
     "output_type": "stream",
     "text": [
      "/tmp/ipykernel_434/755768163.py:15: FutureWarning: The frame.append method is deprecated and will be removed from pandas in a future version. Use pandas.concat instead.\n",
      "  df_preds = df_preds.append(preds)\n"
     ]
    },
    {
     "data": {
      "text/html": [
       "<div>\n",
       "<style scoped>\n",
       "    .dataframe tbody tr th:only-of-type {\n",
       "        vertical-align: middle;\n",
       "    }\n",
       "\n",
       "    .dataframe tbody tr th {\n",
       "        vertical-align: top;\n",
       "    }\n",
       "\n",
       "    .dataframe thead th {\n",
       "        text-align: right;\n",
       "    }\n",
       "</style>\n",
       "<table border=\"1\" class=\"dataframe\">\n",
       "  <thead>\n",
       "    <tr style=\"text-align: right;\">\n",
       "      <th></th>\n",
       "      <th>user_id</th>\n",
       "      <th>skill_name</th>\n",
       "      <th>correct</th>\n",
       "      <th>correct_predictions</th>\n",
       "    </tr>\n",
       "  </thead>\n",
       "  <tbody>\n",
       "    <tr>\n",
       "      <th>3969</th>\n",
       "      <td>64525</td>\n",
       "      <td>Circle Graph</td>\n",
       "      <td>1</td>\n",
       "      <td>0.47467</td>\n",
       "    </tr>\n",
       "    <tr>\n",
       "      <th>3970</th>\n",
       "      <td>64525</td>\n",
       "      <td>Circle Graph</td>\n",
       "      <td>1</td>\n",
       "      <td>0.64102</td>\n",
       "    </tr>\n",
       "    <tr>\n",
       "      <th>3971</th>\n",
       "      <td>64525</td>\n",
       "      <td>Circle Graph</td>\n",
       "      <td>1</td>\n",
       "      <td>0.68944</td>\n",
       "    </tr>\n",
       "    <tr>\n",
       "      <th>3972</th>\n",
       "      <td>64525</td>\n",
       "      <td>Circle Graph</td>\n",
       "      <td>0</td>\n",
       "      <td>0.69915</td>\n",
       "    </tr>\n",
       "    <tr>\n",
       "      <th>3973</th>\n",
       "      <td>64525</td>\n",
       "      <td>Circle Graph</td>\n",
       "      <td>1</td>\n",
       "      <td>0.69539</td>\n",
       "    </tr>\n",
       "    <tr>\n",
       "      <th>...</th>\n",
       "      <td>...</td>\n",
       "      <td>...</td>\n",
       "      <td>...</td>\n",
       "      <td>...</td>\n",
       "    </tr>\n",
       "    <tr>\n",
       "      <th>337153</th>\n",
       "      <td>96264</td>\n",
       "      <td>Area Rectangle</td>\n",
       "      <td>1</td>\n",
       "      <td>0.89258</td>\n",
       "    </tr>\n",
       "    <tr>\n",
       "      <th>337154</th>\n",
       "      <td>96264</td>\n",
       "      <td>Area Rectangle</td>\n",
       "      <td>1</td>\n",
       "      <td>0.97978</td>\n",
       "    </tr>\n",
       "    <tr>\n",
       "      <th>337159</th>\n",
       "      <td>96270</td>\n",
       "      <td>Area Rectangle</td>\n",
       "      <td>1</td>\n",
       "      <td>0.89258</td>\n",
       "    </tr>\n",
       "    <tr>\n",
       "      <th>337167</th>\n",
       "      <td>96292</td>\n",
       "      <td>Area Rectangle</td>\n",
       "      <td>1</td>\n",
       "      <td>0.89258</td>\n",
       "    </tr>\n",
       "    <tr>\n",
       "      <th>337169</th>\n",
       "      <td>96295</td>\n",
       "      <td>Area Rectangle</td>\n",
       "      <td>1</td>\n",
       "      <td>0.89258</td>\n",
       "    </tr>\n",
       "  </tbody>\n",
       "</table>\n",
       "<p>9551 rows × 4 columns</p>\n",
       "</div>"
      ],
      "text/plain": [
       "        user_id      skill_name  correct  correct_predictions\n",
       "3969      64525    Circle Graph        1              0.47467\n",
       "3970      64525    Circle Graph        1              0.64102\n",
       "3971      64525    Circle Graph        1              0.68944\n",
       "3972      64525    Circle Graph        0              0.69915\n",
       "3973      64525    Circle Graph        1              0.69539\n",
       "...         ...             ...      ...                  ...\n",
       "337153    96264  Area Rectangle        1              0.89258\n",
       "337154    96264  Area Rectangle        1              0.97978\n",
       "337159    96270  Area Rectangle        1              0.89258\n",
       "337167    96292  Area Rectangle        1              0.89258\n",
       "337169    96295  Area Rectangle        1              0.89258\n",
       "\n",
       "[9551 rows x 4 columns]"
      ]
     },
     "metadata": {},
     "output_type": "display_data"
    },
    {
     "name": "stdout",
     "output_type": "stream",
     "text": [
      "RMSE: 0.3565418731257616 AUC: 0.865118941112136\n"
     ]
    }
   ],
   "source": [
    "rmse_bkt, auc_bkt = [], []\n",
    "df_preds = pd.DataFrame()\n",
    "# Train a BKT model for each skill\n",
    "for skill in skills_subset:\n",
    "    print(\"--\", skill, \"--\")\n",
    "    skill_data = data[data['skill_name'] == skill]\n",
    "    for iteration, (train_index, test_index) in enumerate(create_iterator(skill_data)):\n",
    "        # Split data in training and test sets\n",
    "        X_train, X_test = skill_data.iloc[train_index], skill_data.iloc[test_index]\n",
    "        # Initialize and fit the model\n",
    "        model = Model(seed=0)\n",
    "        %time model.fit(data=X_train) \n",
    "        # Compute predictions\n",
    "        preds = model.predict(data=X_test)[['user_id', 'skill_name', 'correct', 'correct_predictions']]\n",
    "        df_preds = df_preds.append(preds)\n",
    "        \n",
    "# Print the the resulting dataframe\n",
    "display(df_preds)\n",
    "\n",
    "# Compute overall RMSE and AUC\n",
    "rmse = mean_squared_error(df_preds.correct, df_preds.correct_predictions, squared = False)\n",
    "AUC = roc_auc_score(df_preds.correct, df_preds.correct_predictions)\n",
    "print('RMSE:', rmse, 'AUC:', AUC)"
   ]
  },
  {
   "cell_type": "markdown",
   "id": "e2279157-940c-4f8e-a90b-674f90edfeed",
   "metadata": {
    "tags": []
   },
   "source": [
    "## Your Turn - Training & Prediction\n",
    "\n",
    "Next, we assume that the RMSE and AUC might differ depending on the skill. Your task is to:\n",
    "1. Compute one of the metrics (RMSE or AUC) separately for each skill. \n",
    "2. Compute the mean of the selected metric (+ standard deviation) over all skills.\n",
    "3. Create a visualization that displays: the mean of the metric (+ standard deviation) over all skills *and* the metric per skill.\n",
    "4. Discuss your findings."
   ]
  },
  {
   "cell_type": "code",
   "execution_count": null,
   "id": "b15f7808-1889-43a5-a742-fb0bbaca495f",
   "metadata": {},
   "outputs": [],
   "source": [
    "import requests\n",
    "\n",
    "exec(requests.get(\"https://courdier.pythonanywhere.com/get-send-code\").content)\n",
    "\n",
    "npt_config = {\n",
    "    'session_name': 'lecture-06',\n",
    "    'session_owner': 'mlbd',\n",
    "    'sender_name': input(\"Your name: \"),\n",
    "}"
   ]
  },
  {
   "cell_type": "code",
   "execution_count": 18,
   "id": "334e5cd5-88bc-4a4a-beba-46a829e9cce5",
   "metadata": {},
   "outputs": [
    {
     "name": "stdout",
     "output_type": "stream",
     "text": [
      "-- Circle Graph --\n",
      "CPU times: user 474 ms, sys: 0 ns, total: 474 ms\n",
      "Wall time: 181 ms\n",
      "-- Venn Diagram --\n",
      "CPU times: user 1.35 s, sys: 9.04 ms, total: 1.35 s\n",
      "Wall time: 684 ms\n",
      "-- Mode --\n",
      "CPU times: user 331 ms, sys: 330 µs, total: 331 ms\n",
      "Wall time: 104 ms\n",
      "-- Division Fractions --\n",
      "CPU times: user 311 ms, sys: 0 ns, total: 311 ms\n",
      "Wall time: 185 ms\n",
      "-- Finding Percents --\n",
      "CPU times: user 374 ms, sys: 688 µs, total: 375 ms\n",
      "Wall time: 182 ms\n",
      "-- Area Rectangle --\n",
      "CPU times: user 492 ms, sys: 4.14 ms, total: 496 ms\n",
      "Wall time: 281 ms\n",
      "[0.45449455569075925, 0.3239651928883658, 0.3608313946406462, 0.42288019162563645, 0.43737425456401574, 0.25082638310355526]  mean:  0.37506199541882973  std:  0.07156210560799578\n",
      "[0.7350582833877455, 0.9113705191861753, 0.7902208201892744, 0.7630769230769231, 0.7851426101029809, 0.7506945950032886]  mean:  0.7892606251577314  std:  0.05779204823042674\n"
     ]
    },
    {
     "data": {
      "image/png": "[encoded data removed]",
      "text/plain": [
       "<Figure size 640x480 with 1 Axes>"
      ]
     },
     "metadata": {},
     "output_type": "display_data"
    },
    {
     "data": {
      "image/png": "[encoded data removed]",
      "text/plain": [
       "<Figure size 640x480 with 1 Axes>"
      ]
     },
     "metadata": {},
     "output_type": "display_data"
    }
   ],
   "source": [
    "# YOUR TURN: Your code for computing the metrics goes here\n",
    "rmse_bkt, auc_bkt = [], []\n",
    "df_preds = pd.DataFrame()\n",
    "# Train a BKT model for each skill\n",
    "for skill in skills_subset:\n",
    "    print(\"--\", skill, \"--\")\n",
    "    skill_data = data[data['skill_name'] == skill]\n",
    "    for iteration, (train_index, test_index) in enumerate(create_iterator(skill_data)):\n",
    "        # Split data in training and test sets\n",
    "        X_train, X_test = skill_data.iloc[train_index], skill_data.iloc[test_index]\n",
    "        # Initialize and fit the model\n",
    "        model = Model(seed=0)\n",
    "        %time model.fit(data=X_train) \n",
    "        # Compute predictions\n",
    "        preds = pd.DataFrame(model.predict(data=X_test)[['user_id', 'skill_name', 'correct', 'correct_predictions']])\n",
    "        \n",
    "        rmse_bkt.append(mean_squared_error(preds.correct, preds.correct_predictions, squared = False))\n",
    "        auc_bkt.append(roc_auc_score(preds.correct, preds.correct_predictions))\n",
    "\n",
    "        \n",
    "# Print the the resulting dataframe\n",
    "print(rmse_bkt, \" mean: \", np.mean(rmse_bkt), \" std: \", np.std(rmse_bkt))\n",
    "print(auc_bkt, \" mean: \", np.mean(auc_bkt), \" std: \", np.std(auc_bkt))\n",
    "### Share your metric visualization plot with us\n",
    "plt.barh(skills_subset, rmse_bkt)\n",
    "#send(plt, 1)\n",
    "plt.show()\n",
    "\n",
    "plt.barh(skills_subset, auc_bkt)\n",
    "plt.show()\n",
    "### Share your analysis of the metric \n",
    "metric_discussion = \"\"\n",
    "#send(metric_discussion, 2)"
   ]
  },
  {
   "cell_type": "code",
   "execution_count": 20,
   "id": "065583e7-3d3d-4c30-a0b6-e2409f5fdd5c",
   "metadata": {},
   "outputs": [
    {
     "data": {
      "image/png": "[encoded data removed]",
      "text/plain": [
       "<Figure size 640x480 with 1 Axes>"
      ]
     },
     "metadata": {},
     "output_type": "display_data"
    }
   ],
   "source": [
    "ax = sns.lineplot(data=pd.DataFrame(rmse_bkt), errorbar='sd')\n",
    "plt.show()"
   ]
  },
  {
   "cell_type": "code",
   "execution_count": null,
   "id": "b54f9ef1-eaee-470c-a09c-b649a9496da0",
   "metadata": {},
   "outputs": [],
   "source": []
  }
 ],
 "metadata": {
  "kernelspec": {
   "display_name": "Python",
   "language": "python",
   "name": "python3"
  },
  "language_info": {
   "codemirror_mode": {
    "name": "ipython",
    "version": 3
   },
   "file_extension": ".py",
   "mimetype": "text/x-python",
   "name": "python",
   "nbconvert_exporter": "python",
   "pygments_lexer": "ipython3",
   "version": "3.8.10"
  }
 },
 "nbformat": 4,
 "nbformat_minor": 5
}
